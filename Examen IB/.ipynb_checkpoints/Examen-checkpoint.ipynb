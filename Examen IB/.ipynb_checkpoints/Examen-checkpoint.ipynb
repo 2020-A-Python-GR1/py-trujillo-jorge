{
 "cells": [
  {
   "cell_type": "code",
   "execution_count": 1,
   "metadata": {},
   "outputs": [],
   "source": [
    "import numpy as np\n",
    "import pandas as pd\n",
    "import os"
   ]
  },
  {
   "cell_type": "code",
   "execution_count": 2,
   "metadata": {},
   "outputs": [
    {
     "name": "stdout",
     "output_type": "stream",
     "text": [
      "Examen\n"
     ]
    }
   ],
   "source": [
    "#1) Examen\n",
    "print(\"Examen\")\n"
   ]
  },
  {
   "cell_type": "code",
   "execution_count": 3,
   "metadata": {},
   "outputs": [
    {
     "data": {
      "text/plain": [
       "array([0., 0., 0., 0., 0., 0., 0., 0., 0., 0.])"
      ]
     },
     "execution_count": 3,
     "metadata": {},
     "output_type": "execute_result"
    }
   ],
   "source": [
    "#2) Crear un vector de ceros de tamaño 10\n",
    "vector_ceros = np.zeros(10)\n",
    "vector_ceros"
   ]
  },
  {
   "cell_type": "code",
   "execution_count": 5,
   "metadata": {},
   "outputs": [
    {
     "data": {
      "text/plain": [
       "array([0., 0., 0., 0., 0., 1., 0., 0., 0., 0.])"
      ]
     },
     "execution_count": 5,
     "metadata": {},
     "output_type": "execute_result"
    }
   ],
   "source": [
    "#3) Crear un vector de ceros de tamaño 10 y el de la posicion 5 sea igual a 1\n",
    "vector_ceros_con_uno = np.zeros(10)\n",
    "vector_ceros_con_uno[5]=1\n",
    "vector_ceros_con_uno"
   ]
  },
  {
   "cell_type": "code",
   "execution_count": 6,
   "metadata": {},
   "outputs": [
    {
     "data": {
      "text/plain": [
       "array([50, 49, 48, 47, 46, 45, 44, 43, 42, 41, 40, 39, 38, 37, 36, 35, 34,\n",
       "       33, 32, 31, 30, 29, 28, 27, 26, 25, 24, 23, 22, 21, 20, 19, 18, 17,\n",
       "       16, 15, 14, 13, 12, 11, 10,  9,  8,  7,  6,  5,  4,  3,  2,  1,  0])"
      ]
     },
     "execution_count": 6,
     "metadata": {},
     "output_type": "execute_result"
    }
   ],
   "source": [
    "#4) Cambiar el orden de un vector de 50 elementos, el de la posicion 1 es el de la 50, etc\n",
    "vector_fifty_elements = np.arange(51)[::-1]\n",
    "vector_fifty_elements"
   ]
  },
  {
   "cell_type": "code",
   "execution_count": 8,
   "metadata": {},
   "outputs": [
    {
     "data": {
      "text/plain": [
       "array([[0, 1, 2],\n",
       "       [3, 4, 5],\n",
       "       [6, 7, 8]])"
      ]
     },
     "execution_count": 8,
     "metadata": {},
     "output_type": "execute_result"
    }
   ],
   "source": [
    "#5) Crear una matriz de 3x3 con valores del 0 al 8\n",
    "matriz_3_3 = np.arange(9).reshape(3,3)\n",
    "matriz_3_3"
   ]
  },
  {
   "cell_type": "code",
   "execution_count": 21,
   "metadata": {},
   "outputs": [
    {
     "data": {
      "text/plain": [
       "array([1, 2, 4])"
      ]
     },
     "execution_count": 21,
     "metadata": {},
     "output_type": "execute_result"
    }
   ],
   "source": [
    "#6) Encontrar los indices que no sean 0 en un arreglo\n",
    "arreglo = [1,2,0,0,4,0]\n",
    "arreglo_np = np.array(arreglo)\n",
    "arreglo_no_ceros = arreglo_np[(arreglo_np>0)]\n",
    "arreglo_no_ceros"
   ]
  },
  {
   "cell_type": "code",
   "execution_count": 22,
   "metadata": {},
   "outputs": [
    {
     "data": {
      "text/plain": [
       "array([[1., 0., 0.],\n",
       "       [0., 1., 0.],\n",
       "       [0., 0., 1.]])"
      ]
     },
     "execution_count": 22,
     "metadata": {},
     "output_type": "execute_result"
    }
   ],
   "source": [
    "#7) Crear una matriz identidad de 3x3\n",
    "matriz_identidad_3_3 = np.eye(3)\n",
    "matriz_identidad_3_3"
   ]
  },
  {
   "cell_type": "code",
   "execution_count": 30,
   "metadata": {},
   "outputs": [
    {
     "data": {
      "text/plain": [
       "array([[[88, 13, 78],\n",
       "        [69, 21,  2],\n",
       "        [35, 85, 98]],\n",
       "\n",
       "       [[37, 51, 83],\n",
       "        [94, 77, 35],\n",
       "        [41, 83, 82]],\n",
       "\n",
       "       [[56, 87, 26],\n",
       "        [20, 98,  4],\n",
       "        [85, 24,  8]]])"
      ]
     },
     "execution_count": 30,
     "metadata": {},
     "output_type": "execute_result"
    }
   ],
   "source": [
    "#8) Crear una matriz 3x3x3 con valores randómicos\n",
    "matriz_3_3_random = np.random.randint(0,100,27).reshape(3,3,3)\n",
    "matriz_3_3_random"
   ]
  },
  {
   "cell_type": "code",
   "execution_count": 43,
   "metadata": {},
   "outputs": [
    {
     "name": "stdout",
     "output_type": "stream",
     "text": [
      "[[169  18  15  95  28 118  58 167  32 126]\n",
      " [108  44 132  13  42 130 155  48  29  15]\n",
      " [ 97 133  75   2 137  54  40 199 164 180]\n",
      " [ 32  27  55  79   8  61 166 158  25 107]\n",
      " [178 154  57  72 161  21 102   4  74  66]\n",
      " [105  22 165  44 107  90  12  23 192  23]\n",
      " [189  33  50 160 147  82 181 179  83 161]\n",
      " [101  40   6  13  56  97 191  68  16 155]\n",
      " [152 136  11  86 191 137  39 197  86 139]\n",
      " [157 136 139 118 102 161 194   7  54 192]]\n",
      "Mayor: 199\n",
      "Menor: 2\n"
     ]
    }
   ],
   "source": [
    "#9) Crear una matriz 10x10 y encontrar el mayor y el menor\n",
    "matriz_10_10 = np.random.randint(0,200,100).reshape(10,10)\n",
    "print(matriz_10_10)\n",
    "print(f\"Mayor: {matriz_10_10.max()}\")\n",
    "print(f\"Menor: {matriz_10_10.min()}\")"
   ]
  },
  {
   "cell_type": "code",
   "execution_count": null,
   "metadata": {},
   "outputs": [],
   "source": [
    "#10) Sacar los colores RGB unicos en una imagen (cuales rgb existen ej: 0, 0, 0 - 255,255,255 -> 2 colores)\n"
   ]
  },
  {
   "cell_type": "code",
   "execution_count": 47,
   "metadata": {},
   "outputs": [
    {
     "data": {
      "text/plain": [
       "0      0\n",
       "1      1\n",
       "2      2\n",
       "3      3\n",
       "4      4\n",
       "5      5\n",
       "6      6\n",
       "7      7\n",
       "8      8\n",
       "9      9\n",
       "10    10\n",
       "11    11\n",
       "12    12\n",
       "13    13\n",
       "14    14\n",
       "15    15\n",
       "16    16\n",
       "17    17\n",
       "18    18\n",
       "19    19\n",
       "20    20\n",
       "21    21\n",
       "22    22\n",
       "23    23\n",
       "24    24\n",
       "25    25\n",
       "dtype: int32"
      ]
     },
     "execution_count": 47,
     "metadata": {},
     "output_type": "execute_result"
    }
   ],
   "source": [
    "#11) ¿Como crear una serie de una lista, diccionario o arreglo?\n",
    "mylist = list('abcdefghijklmnopqrstuvwxyz')\n",
    "myarr = np.arange(26)\n",
    "mydict = dict(zip(mylist,myarr))\n",
    "serie_lista = pd.Series(mylist)\n",
    "serie_arr = pd.Series(myarr)\n",
    "serie_dict = pd.Series(mydict)"
   ]
  },
  {
   "cell_type": "code",
   "execution_count": null,
   "metadata": {},
   "outputs": [],
   "source": []
  }
 ],
 "metadata": {
  "kernelspec": {
   "display_name": "Python 3",
   "language": "python",
   "name": "python3"
  },
  "language_info": {
   "codemirror_mode": {
    "name": "ipython",
    "version": 3
   },
   "file_extension": ".py",
   "mimetype": "text/x-python",
   "name": "python",
   "nbconvert_exporter": "python",
   "pygments_lexer": "ipython3",
   "version": "3.7.6"
  }
 },
 "nbformat": 4,
 "nbformat_minor": 4
}
