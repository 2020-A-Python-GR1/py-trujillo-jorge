{
 "cells": [
  {
   "cell_type": "markdown",
   "metadata": {},
   "source": [
    "# Proyecto CSV Python\n",
    "## Análisis Steam Store Games (Clean dataset)\n",
    "\n",
    "### Jorge Trujillo\n",
    "\n",
    "#### Introducción\n",
    "\n",
    "Se busca analizar varios datos de los juegos en Steam usando el dataset **Steam Store Games (Clean dataset)** que se encuentra en `Kaggle`.\n",
    "El dataset usado lo puede encontrar [aquí](https://www.kaggle.com/nikdavis/steam-store-games) junto con otros csv, el usado para este análisis fue solo el `steam.csv`\n",
    "\n",
    "##### Dataset\n",
    "\n",
    "Con datos recopilados de Steam Store y SteamSpy API, este conjunto de datos proporciona información sobre varios aspectos de los juegos en la tienda, como su género y la cantidad estimada de propietarios.\n",
    "\n",
    "Reunido alrededor de mayo de 2019, contiene la mayoría de los juegos de la tienda lanzados antes de esa fecha. Se eliminaron los títulos inéditos, así como muchos no juegos, como el software, aunque algunos pueden haberse escapado.\n",
    "\n",
    "Las columnas del dataset son:\n",
    "\n",
    "- `date` - fecha del partido en formato YYYY-mm-dd\n",
    "- `home_team` - el nombre del equipo que juega en casa\n",
    "- `away_team` - el nombre del equipo visitante\n",
    "- `home_score` - el resultado del partido del equipo de casa tomando en cuenta tiempos extra, no se incluyen penaltis finales\n",
    "- `away_score` - el resultado del partido del equipo visitante tomando en cuenta tiempos extra, no se incluyen penaltis finales\n",
    "- `tournament` - el nombre del torneo\n",
    "- `city` - el nombre de la ciudad, pueblo o administración donde se jugó el partido\n",
    "- `country` - el nombre del país donde se jugó el partido\n",
    "- `neutral` - TRUE/FALSE columna que indica si el partido se jugó en un lugar neutral, es decir un país donde los dos equipos son visitantes"
   ]
  },
  {
   "cell_type": "code",
   "execution_count": 3,
   "metadata": {},
   "outputs": [],
   "source": [
    "from scrapy.spiders import CSVFeedSpider\n",
    "\n",
    "class VinosBlancosArania(CSVFeedSpider):\n",
    "    name = \"vinos\"\n",
    "    \n",
    "    start_urls = [\n",
    "        './data/steam.csv'\n",
    "    ]\n",
    "    \n",
    "    delimiter = ',' #Heredado\n",
    "    headers = [\n",
    "        'chlorides',\n",
    "        'free sulfur dioxide',\n",
    "        'total sulfur dioxide',\n",
    "        'density',\n",
    "        'pH',\n",
    "        'sulphates',\n",
    "        'alcohol',\n",
    "        'fixed density',\n",
    "        'volatile acidity',\n",
    "        'citric acid',\n",
    "        'residual sugar',\n",
    "        'quality'\n",
    "    ] #Heredado\n",
    "    \n",
    "    def parse_row (self,response,row): #heredado\n",
    "        print(type(row))\n",
    "        with open('vinos.txt','a+',encoding='utf-8') as archivo:\n",
    "            archivo.write(row['appid'] + '\\n')\n"
   ]
  },
  {
   "cell_type": "code",
   "execution_count": null,
   "metadata": {},
   "outputs": [],
   "source": []
  }
 ],
 "metadata": {
  "kernelspec": {
   "display_name": "Python 3",
   "language": "python",
   "name": "python3"
  },
  "language_info": {
   "codemirror_mode": {
    "name": "ipython",
    "version": 3
   },
   "file_extension": ".py",
   "mimetype": "text/x-python",
   "name": "python",
   "nbconvert_exporter": "python",
   "pygments_lexer": "ipython3",
   "version": "3.7.6"
  }
 },
 "nbformat": 4,
 "nbformat_minor": 4
}
