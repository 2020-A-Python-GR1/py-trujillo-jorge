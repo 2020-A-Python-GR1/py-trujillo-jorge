{
 "cells": [
  {
   "cell_type": "code",
   "execution_count": 1,
   "metadata": {},
   "outputs": [
    {
     "data": {
      "text/plain": [
       "4"
      ]
     },
     "execution_count": 1,
     "metadata": {},
     "output_type": "execute_result"
    }
   ],
   "source": [
    "#funciones lambda\n",
    "def elevar_al_cuadrado(numero):\n",
    "    return numero*numero\n",
    "elevar_al_cuadrado(2)"
   ]
  },
  {
   "cell_type": "code",
   "execution_count": 2,
   "metadata": {},
   "outputs": [],
   "source": [
    "al_cuadrado = lambda x: x*x"
   ]
  },
  {
   "cell_type": "code",
   "execution_count": 3,
   "metadata": {},
   "outputs": [],
   "source": [
    "sumar_dos_numeros = lambda x, y : x+y"
   ]
  },
  {
   "cell_type": "code",
   "execution_count": 4,
   "metadata": {},
   "outputs": [
    {
     "data": {
      "text/plain": [
       "7"
      ]
     },
     "execution_count": 4,
     "metadata": {},
     "output_type": "execute_result"
    }
   ],
   "source": [
    "sumar_dos_numeros(3,4)"
   ]
  },
  {
   "cell_type": "code",
   "execution_count": 5,
   "metadata": {},
   "outputs": [],
   "source": [
    "class Nada:\n",
    "    pass"
   ]
  },
  {
   "cell_type": "code",
   "execution_count": 6,
   "metadata": {},
   "outputs": [],
   "source": [
    "una_nada = Nada()"
   ]
  },
  {
   "cell_type": "code",
   "execution_count": 7,
   "metadata": {},
   "outputs": [
    {
     "name": "stdout",
     "output_type": "stream",
     "text": [
      "<__main__.Nada object at 0x0000026386711588>\n",
      "<class '__main__.Nada'>\n"
     ]
    }
   ],
   "source": [
    "print(una_nada)\n",
    "print(type(una_nada))"
   ]
  },
  {
   "cell_type": "code",
   "execution_count": 18,
   "metadata": {},
   "outputs": [
    {
     "name": "stdout",
     "output_type": "stream",
     "text": [
      "Empezó el constructor\n",
      "Rosado\n",
      "140.39999999999998\n",
      "Color:Rosado \n",
      "Numero Chasis: 120\n"
     ]
    }
   ],
   "source": [
    "class Auto:\n",
    "    color = None #Público\n",
    "    __numero_chasis = 1 #Privado\n",
    "    \n",
    "    def __init__(self, color): # self= this\n",
    "        print(\"Empezó el constructor\")\n",
    "        self.color = color\n",
    "    \n",
    "    def setear_chasis(self, numero_chasis):\n",
    "        self.__numero_chasis = numero_chasis\n",
    "        return self.__calculo_chasis()\n",
    "    \n",
    "    def __calculo_chasis(self):\n",
    "        return self.__numero_chasis * 1.17\n",
    "    \n",
    "    def __str__(self):\n",
    "        return f\"Color:{self.color} \\n\n",
    "        Numero Chasis: {self.__numero_chasis}\"\n",
    "\n",
    "nuevo_auto = Auto(\"Rosado\")\n",
    "print(nuevo_auto.color)\n",
    "print(nuevo_auto.setear_chasis(120))\n",
    "print(nuevo_auto)"
   ]
  },
  {
   "cell_type": "code",
   "execution_count": 19,
   "metadata": {},
   "outputs": [],
   "source": [
    "class BMW(Auto):\n",
    "    def __init__(self,color,chasis):\n",
    "        print(\"Iniciar constructor hijo\")\n",
    "        super().__init__(color)\n",
    "        super().setear_chasis(chasis)"
   ]
  },
  {
   "cell_type": "code",
   "execution_count": 21,
   "metadata": {},
   "outputs": [
    {
     "name": "stdout",
     "output_type": "stream",
     "text": [
      "Iniciar constructor hijo\n",
      "Empezó el constructor\n",
      "Color:Blanco \n",
      "Numero Chasis: 150\n"
     ]
    }
   ],
   "source": [
    "nuevo_bmw = BMW(\"Blanco\", 150)\n",
    "print(nuevo_bmw)"
   ]
  },
  {
   "cell_type": "code",
   "execution_count": null,
   "metadata": {},
   "outputs": [],
   "source": []
  }
 ],
 "metadata": {
  "kernelspec": {
   "display_name": "Python 3",
   "language": "python",
   "name": "python3"
  },
  "language_info": {
   "codemirror_mode": {
    "name": "ipython",
    "version": 3
   },
   "file_extension": ".py",
   "mimetype": "text/x-python",
   "name": "python",
   "nbconvert_exporter": "python",
   "pygments_lexer": "ipython3",
   "version": "3.7.6"
  }
 },
 "nbformat": 4,
 "nbformat_minor": 4
}
