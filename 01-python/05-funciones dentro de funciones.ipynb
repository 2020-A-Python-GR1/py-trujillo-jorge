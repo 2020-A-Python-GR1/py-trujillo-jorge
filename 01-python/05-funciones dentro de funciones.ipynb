{
 "cells": [
  {
   "cell_type": "code",
   "execution_count": 12,
   "metadata": {},
   "outputs": [
    {
     "name": "stdout",
     "output_type": "stream",
     "text": [
      "res\n"
     ]
    },
    {
     "data": {
      "text/plain": [
       "-2"
      ]
     },
     "execution_count": 12,
     "metadata": {},
     "output_type": "execute_result"
    }
   ],
   "source": [
    "def calculadora(num_uno, num_dos,operacion):\n",
    "    def suma():\n",
    "        print(\"sum\")\n",
    "        return num_dos + num_uno\n",
    "    def resta():\n",
    "        print(\"res\")\n",
    "        return num_uno - num_dos\n",
    "    def multiplicacion():\n",
    "        print(\"mul\")\n",
    "        return num_dos * num_uno\n",
    "    def division():\n",
    "        print(\"div\")\n",
    "        return num_uno / num_dos\n",
    "    def devolver_respuesta():\n",
    "        opciones = {\n",
    "            \"suma\":suma,\n",
    "            \"resta\":resta,\n",
    "            \"multiplicacion\":multiplicacion,\n",
    "            \"division\":division\n",
    "        }\n",
    "        return opciones[operacion]()#ejecucion de la funcion\n",
    "    \n",
    "    return devolver_respuesta()\n",
    "\n",
    "calculadora(2,4,\"resta\")"
   ]
  },
  {
   "cell_type": "code",
   "execution_count": 13,
   "metadata": {},
   "outputs": [
    {
     "name": "stdout",
     "output_type": "stream",
     "text": [
      "Dime tu edad31\n",
      "31\n",
      "<class 'str'>\n"
     ]
    }
   ],
   "source": [
    "edad = input(\"Dime tu edad\")\n",
    "print(edad)\n",
    "print(type(edad))"
   ]
  },
  {
   "cell_type": "code",
   "execution_count": null,
   "metadata": {},
   "outputs": [],
   "source": []
  }
 ],
 "metadata": {
  "kernelspec": {
   "display_name": "Python 3",
   "language": "python",
   "name": "python3"
  },
  "language_info": {
   "codemirror_mode": {
    "name": "ipython",
    "version": 3
   },
   "file_extension": ".py",
   "mimetype": "text/x-python",
   "name": "python",
   "nbconvert_exporter": "python",
   "pygments_lexer": "ipython3",
   "version": "3.7.6"
  }
 },
 "nbformat": 4,
 "nbformat_minor": 4
}
