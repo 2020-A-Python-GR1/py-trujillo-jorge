{
 "cells": [
  {
   "cell_type": "code",
   "execution_count": 2,
   "metadata": {},
   "outputs": [
    {
     "name": "stdout",
     "output_type": "stream",
     "text": [
      "Hola Mundo\n"
     ]
    },
    {
     "data": {
      "text/plain": [
       "NoneType"
      ]
     },
     "execution_count": 2,
     "metadata": {},
     "output_type": "execute_result"
    }
   ],
   "source": [
    "# Funciones\n",
    "def hola_mundo():\n",
    "    print(\"Hola Mundo\")\n",
    "type(hola_mundo())"
   ]
  },
  {
   "cell_type": "code",
   "execution_count": 5,
   "metadata": {},
   "outputs": [
    {
     "name": "stdout",
     "output_type": "stream",
     "text": [
      "7\n",
      "La suma de 2 y 3 es igual a 5\n"
     ]
    }
   ],
   "source": [
    "def sumar_dos_numeros(num_uno, num_dos):#parámetros requeridos\n",
    "    return num_dos + num_uno\n",
    "print(sumar_dos_numeros(3,4))\n",
    "total_suma = sumar_dos_numeros(2,3)\n",
    "print(f\"La suma de 2 y 3 es igual a {total_suma}\")"
   ]
  },
  {
   "cell_type": "code",
   "execution_count": 9,
   "metadata": {},
   "outputs": [
    {
     "name": "stdout",
     "output_type": "stream",
     "text": [
      "Universidad: EPN\n",
      "Universidad: ESPE\n"
     ]
    }
   ],
   "source": [
    "def imprimir_universidad(nombre = \"EPN\"): #par.ametros opcionales\n",
    "    print(f\"Universidad: {nombre}\")       #parámetros pod redecto\n",
    "\n",
    "imprimir_universidad()\n",
    "imprimir_universidad('ESPE')"
   ]
  },
  {
   "cell_type": "code",
   "execution_count": 11,
   "metadata": {},
   "outputs": [
    {
     "name": "stdout",
     "output_type": "stream",
     "text": [
      "Color: Blanco\n",
      "Placa: ABC-1234\n",
      "Horse Power: 3000\n",
      "Anio: 1999\n"
     ]
    }
   ],
   "source": [
    "#REGLA: 1) parámetros requeridos\n",
    "#       2) parámetros Opcionales\n",
    "def imprimir_carro(color, placa, hp, anio = 1999):\n",
    "    print(f\"Color: {color}\")\n",
    "    print(f\"Placa: {placa}\")\n",
    "    print(f\"Horse Power: {hp}\")\n",
    "    print(f\"Anio: {anio}\")\n",
    "imprimir_carro(\"Blanco\",\"ABC-1234\",3000)"
   ]
  },
  {
   "cell_type": "code",
   "execution_count": 12,
   "metadata": {},
   "outputs": [
    {
     "name": "stdout",
     "output_type": "stream",
     "text": [
      "Color: Red\n",
      "Placa: DEF-4567\n",
      "Horse Power: 2456\n",
      "Anio: 1998\n"
     ]
    }
   ],
   "source": [
    "#Named Parameters (parametros nombrados)\n",
    "#REGLA podemos usar parámetros por posición y luego \n",
    "#podemos usar los demas parámetros nombrados\n",
    "imprimir_carro(anio=1998, placa=\"DEF-4567\",hp=2456,color=\"Red\")"
   ]
  },
  {
   "cell_type": "code",
   "execution_count": 14,
   "metadata": {},
   "outputs": [
    {
     "name": "stdout",
     "output_type": "stream",
     "text": [
      "Color: Amarillo\n",
      "Placa: DEF-4567\n",
      "Horse Power: 2456\n",
      "Anio: 2001\n"
     ]
    }
   ],
   "source": [
    "imprimir_carro(\"Amarillo\", \"DEF-4567\", anio= 2001,hp=2456)"
   ]
  },
  {
   "cell_type": "code",
   "execution_count": 19,
   "metadata": {},
   "outputs": [
    {
     "data": {
      "text/plain": [
       "21"
      ]
     },
     "execution_count": 19,
     "metadata": {},
     "output_type": "execute_result"
    }
   ],
   "source": [
    "def sumar_numeros(primer_numero,*numeros):#Parámetros infinitos\n",
    "    suma= primer_numero\n",
    "    for numero in numeros:\n",
    "        suma = suma + numero\n",
    "    return suma\n",
    "\n",
    "sumar_numeros(1,2,1,2,3,3,1,2,3,1,2)\n",
    "    "
   ]
  },
  {
   "cell_type": "code",
   "execution_count": 23,
   "metadata": {},
   "outputs": [
    {
     "name": "stdout",
     "output_type": "stream",
     "text": [
      "{'saludo': 'hola', 'mensaje': 'mundo'}\n",
      "<class 'dict'>\n"
     ]
    }
   ],
   "source": [
    "def establecer_configuracion(**kwargs):#Key Word argument \\n Parametros nombrados \n",
    "    print(kwargs) \n",
    "    print(type(kwargs))\n",
    "establecer_configuracion(saludo = 'hola', mensaje = 'mundo')"
   ]
  },
  {
   "cell_type": "code",
   "execution_count": 24,
   "metadata": {},
   "outputs": [],
   "source": [
    "#REGLAS\n",
    "def ejemplo (requerido_uno,\n",
    "            requerido_dos,\n",
    "            opcional_uno = 1,\n",
    "            opcional_dos = 2,\n",
    "            *infinitos,\n",
    "            **kwargs):\n",
    "    print(\"Yep\")"
   ]
  },
  {
   "cell_type": "code",
   "execution_count": null,
   "metadata": {},
   "outputs": [],
   "source": []
  }
 ],
 "metadata": {
  "kernelspec": {
   "display_name": "Python 3",
   "language": "python",
   "name": "python3"
  },
  "language_info": {
   "codemirror_mode": {
    "name": "ipython",
    "version": 3
   },
   "file_extension": ".py",
   "mimetype": "text/x-python",
   "name": "python",
   "nbconvert_exporter": "python",
   "pygments_lexer": "ipython3",
   "version": "3.7.6"
  }
 },
 "nbformat": 4,
 "nbformat_minor": 4
}
