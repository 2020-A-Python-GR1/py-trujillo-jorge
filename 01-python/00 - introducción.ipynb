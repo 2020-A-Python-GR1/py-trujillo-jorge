{
 "cells": [
  {
   "cell_type": "markdown",
   "metadata": {},
   "source": [
    "# Titulo 1\n",
    "## Titulo 2\n",
    "### Titulo 3\n",
    "```python\n",
    "print (\"Hola Markdown\")\n",
    "```\n"
   ]
  },
  {
   "cell_type": "code",
   "execution_count": 3,
   "metadata": {},
   "outputs": [
    {
     "name": "stdout",
     "output_type": "stream",
     "text": [
      "Hola jupyter\n"
     ]
    }
   ],
   "source": [
    "print (\"Hola jupyter\")"
   ]
  },
  {
   "cell_type": "code",
   "execution_count": 16,
   "metadata": {},
   "outputs": [
    {
     "name": "stdout",
     "output_type": "stream",
     "text": [
      "<class 'int'>\n",
      "<class 'float'>\n",
      "<class 'str'>\n",
      "<class 'bool'>\n",
      "<class 'bool'>\n",
      "<class 'str'>\n",
      "<class 'NoneType'>\n"
     ]
    }
   ],
   "source": [
    "# No tipado!! no declarar el tipo de variable nunca\n",
    "# Variables primitivas\n",
    "entero = 4\n",
    "decimales = 1.1\n",
    "nombre = \"Jorge\"\n",
    "segundo_nombre = \"Alejandro\" # no camelCase en Python\n",
    "casado = False\n",
    "estudiante = True\n",
    "apellido = 'Trujillo'\n",
    "hijos = None #null\n",
    "print(type(entero))\n",
    "print(type(decimales))\n",
    "print(type(nombre))\n",
    "print(type(casado))\n",
    "print(type(estudiante))\n",
    "print(type(apellido))\n",
    "print(type(hijos))\n",
    "#nan es float"
   ]
  },
  {
   "cell_type": "code",
   "execution_count": 11,
   "metadata": {
    "scrolled": false
   },
   "outputs": [
    {
     "name": "stdout",
     "output_type": "stream",
     "text": [
      "\"\n",
      "adnasndifansiufasdfasdfasdifnasd ajdsf iadfija sidfao dfoij sodifj asdf\n",
      " asd\n",
      " f asd\n",
      " fasdfasdfasdfa sdfa df adfasdfa sdfasdfaposdfkaosd a\n",
      " fiadaidsfaisdf\n",
      " \n",
      " asdfjaijdfaisjdfooj ijasdofjaoisjefio\n",
      "\n"
     ]
    }
   ],
   "source": [
    "cadena_de_texto = \"\"\"\"\n",
    "adnasndifansiufasdfasdfasdifnasd ajdsf iadfija sidfao dfoij sodifj asdf\n",
    " asd\n",
    " f asd\n",
    " fasdfasdfasdfa sdfa df adfasdfa sdfasdfaposdfkaosd a\n",
    " fiadaidsfaisdf\n",
    " \n",
    " asdfjaijdfaisjdfooj ijasdofjaoisjefio\n",
    "\"\"\"\n",
    "print(cadena_de_texto)"
   ]
  },
  {
   "cell_type": "code",
   "execution_count": 17,
   "metadata": {
    "scrolled": true
   },
   "outputs": [
    {
     "name": "stdout",
     "output_type": "stream",
     "text": [
      "4\n",
      "Jorge\n"
     ]
    }
   ],
   "source": [
    "print(entero)\n",
    "entero = decimales\n",
    "entero = hijos\n",
    "entero = casado\n",
    "entero = nombre\n",
    "print(entero)"
   ]
  },
  {
   "cell_type": "code",
   "execution_count": 13,
   "metadata": {},
   "outputs": [
    {
     "name": "stdout",
     "output_type": "stream",
     "text": [
      "Truty\n",
      "Falsy\n"
     ]
    }
   ],
   "source": [
    "# condiciones\n",
    "# Truty - Falsy\n",
    "tuplas = (1,2,3) # Arreglos que no se pueden modificar\n",
    "listas = [4,5,6] # Arreglos que se pueden modificar\n",
    "diccionario = {\n",
    "    \"nombre\" : \"Jorge\"\n",
    "}\n",
    "if('Jorge'):\n",
    "    # foo()\n",
    "    print('Truty')\n",
    "else:\n",
    "    #bar()\n",
    "    print('Falsy')\n",
    "    \n",
    "if(''):\n",
    "    # foo()\n",
    "    print('Truty')\n",
    "else:\n",
    "    #bar()\n",
    "    print('Falsy')\n"
   ]
  },
  {
   "cell_type": "code",
   "execution_count": null,
   "metadata": {},
   "outputs": [],
   "source": []
  },
  {
   "cell_type": "code",
   "execution_count": null,
   "metadata": {},
   "outputs": [],
   "source": []
  }
 ],
 "metadata": {
  "kernelspec": {
   "display_name": "Python 3",
   "language": "python",
   "name": "python3"
  },
  "language_info": {
   "codemirror_mode": {
    "name": "ipython",
    "version": 3
   },
   "file_extension": ".py",
   "mimetype": "text/x-python",
   "name": "python",
   "nbconvert_exporter": "python",
   "pygments_lexer": "ipython3",
   "version": "3.7.6"
  }
 },
 "nbformat": 4,
 "nbformat_minor": 4
}
